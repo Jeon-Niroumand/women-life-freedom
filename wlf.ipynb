{
 "cells": [
  {
   "cell_type": "markdown",
   "id": "4fb6bc54",
   "metadata": {},
   "source": [
    "<h1>Loading and Cleaning Data </h1>"
   ]
  },
  {
   "cell_type": "code",
   "execution_count": 1,
   "id": "abba2d39",
   "metadata": {},
   "outputs": [
    {
     "data": {
      "text/plain": [
       "40240"
      ]
     },
     "execution_count": 1,
     "metadata": {},
     "output_type": "execute_result"
    }
   ],
   "source": [
    "import pandas as pd\n",
    "import numpy as np\n",
    "\n",
    "### CLEAN TXT FOR CSV FILE CONVERSION\n",
    "martyrs = open(\"481martyrs.txt\", \"r\").read().replace(\" â€“ \",\",\")\n",
    "martyrs = martyrs.replace(\"Age : \",\"\")\n",
    "martyrs = martyrs.replace(\"About \",\"\")\n",
    "martyrs = martyrs.replace(\" years old\",\"\")\n",
    "martyrs = martyrs.replace(\"Gender: \",\"\")\n",
    "martyrs = martyrs.replace(\"Place of death: \",\"\")\n",
    "martyrs = martyrs.replace(\"Date of death: \",\"\")\n",
    "martyrs = martyrs.replace(\"Cause of death: \",\"\")\n",
    "martyrs = martyrs.replace(\"Source : \",\"\")\n",
    "martyrs = martyrs.replace(\"Hrana Confirmation status: \",\"\")\n",
    "cleaned = open(\"481cleaned.csv\", \"w\") ## Save as cleaned CSV raw Data\n",
    "cleaned.write(martyrs)"
   ]
  },
  {
   "cell_type": "code",
   "execution_count": 2,
   "id": "6f0823dd",
   "metadata": {},
   "outputs": [],
   "source": [
    "# MAKE A DATAFRAME FOR ANALYSIS AND MORE CLEANING\n",
    "\n",
    "df = pd.read_csv(\"481cleaned.csv\", names=['index','name','age','gender','place of death','date of death','cause of death','source','hrana confirmation'])\n",
    "df = df.drop(columns='index',) # drop, the index pandas gives me one.\n",
    "\n",
    "# Clean age and format as int\n",
    "df = df.replace(\"Unknown\", np.nan)\n",
    "df['age'] = df['age'].astype(float)\n",
    "\n",
    "# Format columns as _datetime\n",
    "df['date of death'] = pd.to_datetime(df['date of death'])\n",
    "df.dtypes\n",
    "\n",
    "# recreate an unknown field and type str\n",
    "df['cause of death'] = df['cause of death'].astype(str)\n",
    "df['cause of death']= df['cause of death'].replace(\"nan\", \"Unknown\") \n",
    "\n",
    "# overwrite 481cleaned.csv with the better column names and values, this can be used in pivot tables, tableau and further ML\n",
    "df.to_csv('481cleaned.csv', index=False)"
   ]
  },
  {
   "cell_type": "code",
   "execution_count": 3,
   "id": "95b220b9",
   "metadata": {},
   "outputs": [],
   "source": [
    "# Pruning - Get rid of unconfirmed social media reports to start off.\n",
    "unconfirmed = df.loc[(df['source']== 'Social Media') & (df['hrana confirmation']== 'Under review')]\n",
    "\n",
    "#Yikes, 106 records is more than I expected. I'm going to research the names. They'll be pruned with pivot table. \n",
    "unconfirmed.to_csv('unconfirmed.csv', index=False)"
   ]
  },
  {
   "cell_type": "code",
   "execution_count": 4,
   "id": "dc68268f",
   "metadata": {},
   "outputs": [
    {
     "ename": "AttributeError",
     "evalue": "'str' object has no attribute 'random'",
     "output_type": "error",
     "traceback": [
      "\u001b[1;31m---------------------------------------------------------------------------\u001b[0m",
      "\u001b[1;31mAttributeError\u001b[0m                            Traceback (most recent call last)",
      "\u001b[1;32m~\\AppData\\Local\\Temp\\ipykernel_11460\\1586408090.py\u001b[0m in \u001b[0;36m<module>\u001b[1;34m\u001b[0m\n\u001b[1;32m----> 1\u001b[1;33m \u001b[0mmartyrs\u001b[0m\u001b[1;33m.\u001b[0m\u001b[0mrandom\u001b[0m\u001b[1;33m(\u001b[0m\u001b[1;36m5\u001b[0m\u001b[1;33m)\u001b[0m\u001b[1;33m\u001b[0m\u001b[1;33m\u001b[0m\u001b[0m\n\u001b[0m",
      "\u001b[1;31mAttributeError\u001b[0m: 'str' object has no attribute 'random'"
     ]
    }
   ],
   "source": [
    "martyrs.random(5)"
   ]
  },
  {
   "cell_type": "markdown",
   "id": "cc42b1f4",
   "metadata": {},
   "source": []
  }
 ],
 "metadata": {
  "kernelspec": {
   "display_name": "Python 3 (ipykernel)",
   "language": "python",
   "name": "python3"
  },
  "language_info": {
   "codemirror_mode": {
    "name": "ipython",
    "version": 3
   },
   "file_extension": ".py",
   "mimetype": "text/x-python",
   "name": "python",
   "nbconvert_exporter": "python",
   "pygments_lexer": "ipython3",
   "version": "3.9.13"
  }
 },
 "nbformat": 4,
 "nbformat_minor": 5
}
